{
 "cells": [
  {
   "cell_type": "code",
   "execution_count": 4,
   "metadata": {},
   "outputs": [],
   "source": [
    "import dill\n",
    "import json\n",
    "import artm\n",
    "import numpy as np\n",
    "from predproces import save_vowpal_wabbit, get_model\n",
    "from sklearn.metrics.pairwise import cosine_similarity\n",
    "\n",
    "tokenizer = dill.load(open('tokenizer', 'rb'))\n",
    "recipes_features = np.load('recipes_features.npy')\n",
    "\n",
    "with open('recipes.txt') as fl:\n",
    "    recipes = json.loads(fl.read())\n",
    "    \n",
    "dictionary = artm.Dictionary()\n",
    "dictionary.gather(data_path='batches')\n",
    "batch_vectorizer = artm.BatchVectorizer(data_path='batches', data_format='batches')\n",
    "\n",
    "model = get_model(dictionary, batch_vectorizer)\n",
    "\n",
    "def get_recipe(query):\n",
    "    save_vowpal_wabbit(tokenizer.transform([query]), 'query/query.txt')\n",
    "    batch_vectorizer = artm.BatchVectorizer(data_path='query/query.txt',\n",
    "                                            data_format='vowpal_wabbit',\n",
    "                                            target_folder='query/batches',\n",
    "                                            class_ids=['unigram', 'ngram'])\n",
    "    query = model.transform(batch_vectorizer).T.values\n",
    "    return recipes[cosine_similarity(query, recipes_features)[0].argmax()]"
   ]
  },
  {
   "cell_type": "code",
   "execution_count": 7,
   "metadata": {},
   "outputs": [
    {
     "data": {
      "text/plain": [
       "['Ризотто с морепродуктами', '/recept/rizotto-s-moreproduktami']"
      ]
     },
     "execution_count": 7,
     "metadata": {},
     "output_type": "execute_result"
    }
   ],
   "source": [
    "get_recipe('Очень люблю морепродукты и особенно креветки')"
   ]
  }
 ],
 "metadata": {
  "kernelspec": {
   "display_name": "Python 3",
   "language": "python",
   "name": "python3"
  },
  "language_info": {
   "codemirror_mode": {
    "name": "ipython",
    "version": 3
   },
   "file_extension": ".py",
   "mimetype": "text/x-python",
   "name": "python",
   "nbconvert_exporter": "python",
   "pygments_lexer": "ipython3",
   "version": "3.6.3"
  }
 },
 "nbformat": 4,
 "nbformat_minor": 2
}
